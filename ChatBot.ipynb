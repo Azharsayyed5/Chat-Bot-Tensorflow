{
  "nbformat": 4,
  "nbformat_minor": 0,
  "metadata": {
    "colab": {
      "name": "ChatBot.ipynb",
      "provenance": [],
      "authorship_tag": "ABX9TyMNPiqECW1p8mtDzCWQt/Dl",
      "include_colab_link": true
    },
    "kernelspec": {
      "name": "python3",
      "display_name": "Python 3"
    }
  },
  "cells": [
    {
      "cell_type": "markdown",
      "metadata": {
        "id": "view-in-github",
        "colab_type": "text"
      },
      "source": [
        "<a href=\"https://colab.research.google.com/github/Azharsayyed5/Chat-Bot-Tensorflow/blob/main/ChatBot.ipynb\" target=\"_parent\"><img src=\"https://colab.research.google.com/assets/colab-badge.svg\" alt=\"Open In Colab\"/></a>"
      ]
    },
    {
      "cell_type": "code",
      "metadata": {
        "id": "sHioNoyiBlQg"
      },
      "source": [
        "import nltk"
      ],
      "execution_count": 1,
      "outputs": []
    },
    {
      "cell_type": "code",
      "metadata": {
        "id": "0ULhQR-jCiKs"
      },
      "source": [
        "from nltk.stem.lancaster import LancasterStemmer\r\n",
        "stemmer = LancasterStemmer()"
      ],
      "execution_count": 2,
      "outputs": []
    },
    {
      "cell_type": "code",
      "metadata": {
        "colab": {
          "base_uri": "https://localhost:8080/"
        },
        "id": "2FYY-azYDSk3",
        "outputId": "1956f6d1-c56d-42bf-d7ef-f7052c6f775e"
      },
      "source": [
        "pip install tflearn"
      ],
      "execution_count": 3,
      "outputs": [
        {
          "output_type": "stream",
          "text": [
            "Requirement already satisfied: tflearn in /usr/local/lib/python3.7/dist-packages (0.5.0)\n",
            "Requirement already satisfied: numpy in /usr/local/lib/python3.7/dist-packages (from tflearn) (1.19.5)\n",
            "Requirement already satisfied: Pillow in /usr/local/lib/python3.7/dist-packages (from tflearn) (7.0.0)\n",
            "Requirement already satisfied: six in /usr/local/lib/python3.7/dist-packages (from tflearn) (1.15.0)\n"
          ],
          "name": "stdout"
        }
      ]
    },
    {
      "cell_type": "code",
      "metadata": {
        "colab": {
          "base_uri": "https://localhost:8080/"
        },
        "id": "41fC5IKXFN7n",
        "outputId": "a392ff54-200e-459d-80cc-015c4f9ebc9c"
      },
      "source": [
        "pip uninstall tensorflow -y"
      ],
      "execution_count": 4,
      "outputs": [
        {
          "output_type": "stream",
          "text": [
            "Uninstalling tensorflow-1.15.0:\n",
            "  Successfully uninstalled tensorflow-1.15.0\n"
          ],
          "name": "stdout"
        }
      ]
    },
    {
      "cell_type": "code",
      "metadata": {
        "colab": {
          "base_uri": "https://localhost:8080/"
        },
        "id": "VwuUq3fgFPIP",
        "outputId": "e5dcba83-339d-43b1-95fe-2e83d4ec0999"
      },
      "source": [
        "pip install tensorflow==1.15"
      ],
      "execution_count": 5,
      "outputs": [
        {
          "output_type": "stream",
          "text": [
            "Collecting tensorflow==1.15\n",
            "  Using cached https://files.pythonhosted.org/packages/92/2b/e3af15221da9ff323521565fa3324b0d7c7c5b1d7a8ca66984c8d59cb0ce/tensorflow-1.15.0-cp37-cp37m-manylinux2010_x86_64.whl\n",
            "Requirement already satisfied: numpy<2.0,>=1.16.0 in /usr/local/lib/python3.7/dist-packages (from tensorflow==1.15) (1.19.5)\n",
            "Requirement already satisfied: keras-applications>=1.0.8 in /usr/local/lib/python3.7/dist-packages (from tensorflow==1.15) (1.0.8)\n",
            "Requirement already satisfied: absl-py>=0.7.0 in /usr/local/lib/python3.7/dist-packages (from tensorflow==1.15) (0.10.0)\n",
            "Requirement already satisfied: wheel>=0.26 in /usr/local/lib/python3.7/dist-packages (from tensorflow==1.15) (0.36.2)\n",
            "Requirement already satisfied: protobuf>=3.6.1 in /usr/local/lib/python3.7/dist-packages (from tensorflow==1.15) (3.12.4)\n",
            "Requirement already satisfied: keras-preprocessing>=1.0.5 in /usr/local/lib/python3.7/dist-packages (from tensorflow==1.15) (1.1.2)\n",
            "Requirement already satisfied: tensorboard<1.16.0,>=1.15.0 in /usr/local/lib/python3.7/dist-packages (from tensorflow==1.15) (1.15.0)\n",
            "Requirement already satisfied: google-pasta>=0.1.6 in /usr/local/lib/python3.7/dist-packages (from tensorflow==1.15) (0.2.0)\n",
            "Requirement already satisfied: astor>=0.6.0 in /usr/local/lib/python3.7/dist-packages (from tensorflow==1.15) (0.8.1)\n",
            "Requirement already satisfied: termcolor>=1.1.0 in /usr/local/lib/python3.7/dist-packages (from tensorflow==1.15) (1.1.0)\n",
            "Requirement already satisfied: six>=1.10.0 in /usr/local/lib/python3.7/dist-packages (from tensorflow==1.15) (1.15.0)\n",
            "Requirement already satisfied: opt-einsum>=2.3.2 in /usr/local/lib/python3.7/dist-packages (from tensorflow==1.15) (3.3.0)\n",
            "Requirement already satisfied: gast==0.2.2 in /usr/local/lib/python3.7/dist-packages (from tensorflow==1.15) (0.2.2)\n",
            "Requirement already satisfied: wrapt>=1.11.1 in /usr/local/lib/python3.7/dist-packages (from tensorflow==1.15) (1.12.1)\n",
            "Requirement already satisfied: tensorflow-estimator==1.15.1 in /usr/local/lib/python3.7/dist-packages (from tensorflow==1.15) (1.15.1)\n",
            "Requirement already satisfied: grpcio>=1.8.6 in /usr/local/lib/python3.7/dist-packages (from tensorflow==1.15) (1.32.0)\n",
            "Requirement already satisfied: h5py in /usr/local/lib/python3.7/dist-packages (from keras-applications>=1.0.8->tensorflow==1.15) (2.10.0)\n",
            "Requirement already satisfied: setuptools in /usr/local/lib/python3.7/dist-packages (from protobuf>=3.6.1->tensorflow==1.15) (54.0.0)\n",
            "Requirement already satisfied: werkzeug>=0.11.15 in /usr/local/lib/python3.7/dist-packages (from tensorboard<1.16.0,>=1.15.0->tensorflow==1.15) (1.0.1)\n",
            "Requirement already satisfied: markdown>=2.6.8 in /usr/local/lib/python3.7/dist-packages (from tensorboard<1.16.0,>=1.15.0->tensorflow==1.15) (3.3.4)\n",
            "Requirement already satisfied: importlib-metadata; python_version < \"3.8\" in /usr/local/lib/python3.7/dist-packages (from markdown>=2.6.8->tensorboard<1.16.0,>=1.15.0->tensorflow==1.15) (3.7.0)\n",
            "Requirement already satisfied: typing-extensions>=3.6.4; python_version < \"3.8\" in /usr/local/lib/python3.7/dist-packages (from importlib-metadata; python_version < \"3.8\"->markdown>=2.6.8->tensorboard<1.16.0,>=1.15.0->tensorflow==1.15) (3.7.4.3)\n",
            "Requirement already satisfied: zipp>=0.5 in /usr/local/lib/python3.7/dist-packages (from importlib-metadata; python_version < \"3.8\"->markdown>=2.6.8->tensorboard<1.16.0,>=1.15.0->tensorflow==1.15) (3.4.0)\n",
            "Installing collected packages: tensorflow\n",
            "Successfully installed tensorflow-1.15.0\n"
          ],
          "name": "stdout"
        }
      ]
    },
    {
      "cell_type": "code",
      "metadata": {
        "colab": {
          "base_uri": "https://localhost:8080/"
        },
        "id": "vSrwd_nMCkzY",
        "outputId": "6e823d9f-3ae8-4c98-bf42-72cf8b323d51"
      },
      "source": [
        "import numpy\r\n",
        "import tflearn\r\n",
        "import tensorflow\r\n",
        "import json\r\n",
        "import pickle"
      ],
      "execution_count": 6,
      "outputs": [
        {
          "output_type": "stream",
          "text": [
            "WARNING:tensorflow:From /usr/local/lib/python3.7/dist-packages/tensorflow_core/python/compat/v2_compat.py:68: disable_resource_variables (from tensorflow.python.ops.variable_scope) is deprecated and will be removed in a future version.\n",
            "Instructions for updating:\n",
            "non-resource variables are not supported in the long term\n"
          ],
          "name": "stdout"
        }
      ]
    },
    {
      "cell_type": "code",
      "metadata": {
        "colab": {
          "base_uri": "https://localhost:8080/"
        },
        "id": "masvBKDHCntM",
        "outputId": "d09e8edf-cfcc-499f-f675-e5e742fd40fa"
      },
      "source": [
        "nltk.download('punkt')"
      ],
      "execution_count": 7,
      "outputs": [
        {
          "output_type": "stream",
          "text": [
            "[nltk_data] Downloading package punkt to /root/nltk_data...\n",
            "[nltk_data]   Package punkt is already up-to-date!\n"
          ],
          "name": "stdout"
        },
        {
          "output_type": "execute_result",
          "data": {
            "text/plain": [
              "True"
            ]
          },
          "metadata": {
            "tags": []
          },
          "execution_count": 7
        }
      ]
    },
    {
      "cell_type": "code",
      "metadata": {
        "id": "bu2b5PQmCqz-"
      },
      "source": [
        "words = []\r\n",
        "labels = []\r\n",
        "docs_x = []\r\n",
        "docs_y = []"
      ],
      "execution_count": 8,
      "outputs": []
    },
    {
      "cell_type": "code",
      "metadata": {
        "id": "KNweO7FVCtDf"
      },
      "source": [
        "with open(\"train.json\") as file:\r\n",
        "    data = json.load(file)"
      ],
      "execution_count": 9,
      "outputs": []
    },
    {
      "cell_type": "code",
      "metadata": {
        "id": "B_ijxFtpCu__"
      },
      "source": [
        "for intent in data[\"intents\"]:\r\n",
        "    for pattern in intent[\"patterns\"]:\r\n",
        "        wrds = nltk.word_tokenize(pattern)\r\n",
        "        words.extend(wrds)\r\n",
        "        docs_x.append(wrds)\r\n",
        "        docs_y.append(intent[\"tag\"])\r\n",
        "\r\n",
        "    if intent[\"tag\"] not in labels:\r\n",
        "        labels.append(intent[\"tag\"])"
      ],
      "execution_count": 10,
      "outputs": []
    },
    {
      "cell_type": "code",
      "metadata": {
        "id": "JhQA0MyhCxBt"
      },
      "source": [
        "words = [stemmer.stem(w.lower()) for w in words if w != \"?\"]\r\n",
        "words = sorted(list(set(words)))\r\n",
        "labels = sorted(labels)"
      ],
      "execution_count": 11,
      "outputs": []
    },
    {
      "cell_type": "code",
      "metadata": {
        "id": "iUjPvceyCzha"
      },
      "source": [
        "training = []\r\n",
        "output = []\r\n",
        "\r\n",
        "out_empty = [0 for _ in range(len(labels))]\r\n",
        "for x, doc in enumerate(docs_x):\r\n",
        "    bag = []\r\n",
        "    wrds = [stemmer.stem(w.lower()) for w in doc]\r\n",
        "\r\n",
        "    for w in words:\r\n",
        "        if w in wrds:\r\n",
        "            bag.append(1)\r\n",
        "        else:\r\n",
        "            bag.append(0)\r\n",
        "\r\n",
        "    output_row = out_empty[:]\r\n",
        "    output_row[labels.index(docs_y[x])] = 1\r\n",
        "    training.append(bag)\r\n",
        "    output.append(output_row)\r\n",
        "  \r\n",
        "\r\n",
        "training = numpy.array(training)\r\n",
        "output = numpy.array(output)"
      ],
      "execution_count": 12,
      "outputs": []
    },
    {
      "cell_type": "code",
      "metadata": {
        "id": "QkhAycqCC1cN"
      },
      "source": [
        "with open(\"data.pickle\", \"wb\") as f:\r\n",
        "    pickle.dump((words, labels, training, output), f)"
      ],
      "execution_count": 13,
      "outputs": []
    },
    {
      "cell_type": "code",
      "metadata": {
        "colab": {
          "base_uri": "https://localhost:8080/"
        },
        "id": "PMtouQAqDEf4",
        "outputId": "c8fbd8d9-d254-4d62-9a6d-c8f39d656215"
      },
      "source": [
        "tensorflow.reset_default_graph()\r\n",
        "\r\n",
        "net = tflearn.input_data(shape=[None, len(training[0])])\r\n",
        "\r\n",
        "net = tflearn.fully_connected(net, 8)\r\n",
        "net = tflearn.fully_connected(net, 8)\r\n",
        "net = tflearn.fully_connected(net, len(output[0]), activation=\"softmax\")\r\n",
        "net = tflearn.regression(net)\r\n",
        "\r\n",
        "model = tflearn.DNN(net)\r\n",
        "model.fit(training, output, n_epoch=1000, batch_size=8, show_metric=True)\r\n",
        "model.save(\"model.tflearn\")"
      ],
      "execution_count": 14,
      "outputs": [
        {
          "output_type": "stream",
          "text": [
            "Training Step: 18999  | total loss: \u001b[1m\u001b[32m0.01206\u001b[0m\u001b[0m | time: 0.144s\n",
            "| Adam | epoch: 1000 | loss: 0.01206 - acc: 0.9855 -- iter: 144/149\n",
            "Training Step: 19000  | total loss: \u001b[1m\u001b[32m0.01089\u001b[0m\u001b[0m | time: 0.155s\n",
            "| Adam | epoch: 1000 | loss: 0.01089 - acc: 0.9869 -- iter: 149/149\n",
            "--\n",
            "INFO:tensorflow:/content/model.tflearn is not in all_model_checkpoint_paths. Manually adding it.\n"
          ],
          "name": "stdout"
        }
      ]
    },
    {
      "cell_type": "markdown",
      "metadata": {
        "id": "qetw7_NFJ3uN"
      },
      "source": [
        "# TALK TO THE **BOT**"
      ]
    },
    {
      "cell_type": "code",
      "metadata": {
        "id": "YnGt5C5EJTaP"
      },
      "source": [
        "with open(\"train.json\") as file:\r\n",
        "    data = json.load(file)\r\n",
        "with open(\"data.pickle\", \"rb\") as f:\r\n",
        "    words, labels, training, output = pickle.load(f)"
      ],
      "execution_count": 15,
      "outputs": []
    },
    {
      "cell_type": "code",
      "metadata": {
        "id": "X-qf_7EPJXqy",
        "outputId": "6edc8d96-f304-4303-8edf-ca452e572951",
        "colab": {
          "base_uri": "https://localhost:8080/"
        }
      },
      "source": [
        "tensorflow.reset_default_graph()\r\n",
        "net = tflearn.input_data(shape=[None, len(training[0])])\r\n",
        "net = tflearn.fully_connected(net, 8)\r\n",
        "net = tflearn.fully_connected(net, 8)\r\n",
        "net = tflearn.fully_connected(net, len(output[0]), activation=\"softmax\")\r\n",
        "model = tflearn.DNN(net)\r\n",
        "model.load(\"model.tflearn\")"
      ],
      "execution_count": 16,
      "outputs": [
        {
          "output_type": "stream",
          "text": [
            "INFO:tensorflow:Restoring parameters from /content/model.tflearn\n"
          ],
          "name": "stdout"
        }
      ]
    },
    {
      "cell_type": "code",
      "metadata": {
        "id": "gBgLd-r-JbYY"
      },
      "source": [
        "def bag_of_words(s, words):\r\n",
        "    bag = [0 for _ in range(len(words))]\r\n",
        "\r\n",
        "    s_words = nltk.word_tokenize(s)\r\n",
        "    s_words = [stemmer.stem(word.lower()) for word in s_words]\r\n",
        "\r\n",
        "    for se in s_words:\r\n",
        "        for i, w in enumerate(words):\r\n",
        "            if w == se:\r\n",
        "                bag[i] = 1\r\n",
        "\r\n",
        "    return numpy.array(bag)"
      ],
      "execution_count": 17,
      "outputs": []
    },
    {
      "cell_type": "code",
      "metadata": {
        "id": "1gm7Kj_bJldt"
      },
      "source": [
        "import random"
      ],
      "execution_count": 20,
      "outputs": []
    },
    {
      "cell_type": "code",
      "metadata": {
        "id": "Nald1IwiJdZl"
      },
      "source": [
        "def chat(inp):\r\n",
        "    results = model.predict([bag_of_words(inp, words)])\r\n",
        "    results_index = numpy.argmax(results)\r\n",
        "    tag = labels[results_index]\r\n",
        "\r\n",
        "    for tg in data[\"intents\"]:\r\n",
        "        if tg['tag'] == tag:\r\n",
        "            response = tg['responses']\r\n",
        "\r\n",
        "            print(random.choice(response))"
      ],
      "execution_count": 21,
      "outputs": []
    },
    {
      "cell_type": "code",
      "metadata": {
        "id": "cqFyOiRwJfrx",
        "outputId": "7f18e413-c0e8-43a4-d87f-081768d53a96",
        "colab": {
          "base_uri": "https://localhost:8080/"
        }
      },
      "source": [
        "print(\"Start talking with the bot (type quit to stop)!\")\r\n",
        "while True:\r\n",
        "    inp = input(\"You: \")\r\n",
        "    if inp.lower() == \"quit\":\r\n",
        "        print(\"bye\")\r\n",
        "        break\r\n",
        "    chat(inp)"
      ],
      "execution_count": null,
      "outputs": [
        {
          "output_type": "stream",
          "text": [
            "Start talking with the bot (type quit to stop)!\n"
          ],
          "name": "stdout"
        }
      ]
    }
  ]
}